{
 "cells": [
  {
   "cell_type": "code",
   "execution_count": 1,
   "metadata": {
    "collapsed": true
   },
   "outputs": [],
   "source": [
    "from __future__ import division\n",
    "from __future__ import print_function\n",
    "from __future__ import unicode_literals\n",
    "import pandas as pd\n",
    "import numpy as np\n",
    "from numpy import mat\n",
    "import random as rnd  #This module implements pseudo-random number generators for various distributions.\n",
    "import scipy.stats as stats  #contains  probability distributions as well as  statistical functions.\n",
    "import scipy.optimize as opt\n",
    "from scipy.sparse import diags\n",
    "import json as json\n",
    "import matplotlib as mpl\n",
    "from numpy import exp\n",
    "from numpy import log\n",
    "from matplotlib import pyplot as plt\n",
    "import time\n",
    "from sys import getsizeof as siz\n",
    "\n",
    "from IPython.core.pylabtools import figsize\n",
    "from IPython.display import display\n",
    "from IPython.core.display import HTML\n",
    "%matplotlib inline\n",
    "rnd.seed(2)\n",
    "figsize(12, 8)\n",
    "pd.set_option(\"display.precision\", 3)\n",
    "np.set_printoptions(precision=4)\n",
    "np.set_printoptions(suppress=True)\n"
   ]
  },
  {
   "cell_type": "code",
   "execution_count": 2,
   "metadata": {
    "collapsed": false,
    "scrolled": false
   },
   "outputs": [],
   "source": [
    "df=pd.read_csv('Yogurt100N.csv')\n",
    "# df.head() "
   ]
  },
  {
   "cell_type": "code",
   "execution_count": 3,
   "metadata": {
    "collapsed": false
   },
   "outputs": [],
   "source": [
    "choice2=df.loc[:,['Brand 1','Brand 2','Brand 3','Brand 4']]"
   ]
  },
  {
   "cell_type": "code",
   "execution_count": 4,
   "metadata": {
    "collapsed": true
   },
   "outputs": [],
   "source": [
    "price2=df.loc[:,['Price 1','Price 2','Price 3','Price 4']]"
   ]
  },
  {
   "cell_type": "code",
   "execution_count": 5,
   "metadata": {
    "collapsed": true
   },
   "outputs": [],
   "source": [
    "choice=df.as_matrix(columns=['Brand 1','Brand 2','Brand 3','Brand 4'])  # or using df.columns[:]"
   ]
  },
  {
   "cell_type": "code",
   "execution_count": 6,
   "metadata": {
    "collapsed": false
   },
   "outputs": [],
   "source": [
    "price=df.as_matrix(columns=['Price 1','Price 2','Price 3','Price 4'])"
   ]
  },
  {
   "cell_type": "code",
   "execution_count": 7,
   "metadata": {
    "collapsed": true
   },
   "outputs": [],
   "source": [
    "feat=df.as_matrix(columns=['Feature 1','Feature 2','Feature 3','Feature 4'])"
   ]
  },
  {
   "cell_type": "code",
   "execution_count": 8,
   "metadata": {
    "collapsed": false
   },
   "outputs": [
    {
     "name": "stdout",
     "output_type": "stream",
     "text": [
      "<type 'numpy.ndarray'> <class 'pandas.core.frame.DataFrame'>\n",
      "(2430L, 4L) (2430L, 4L)\n",
      "112 77856\n",
      "112 77856\n"
     ]
    }
   ],
   "source": [
    "# Check data types and dimentions\n",
    "print(type(choice),type(choice2))\n",
    "print(choice.shape,price.shape)\n",
    "print(siz(choice),siz(choice2))\n",
    "print(siz(price),siz(price2))"
   ]
  },
  {
   "cell_type": "code",
   "execution_count": 9,
   "metadata": {
    "collapsed": true
   },
   "outputs": [],
   "source": [
    "para0=[1,2,3,-2,5]"
   ]
  },
  {
   "cell_type": "code",
   "execution_count": 10,
   "metadata": {
    "collapsed": false
   },
   "outputs": [],
   "source": [
    "# define log likehood function\n",
    "def LogLike(para):\n",
    "    n=price.shape[0]\n",
    "    para=np.array(para)\n",
    "    alpha=np.hstack([para[0:3],0])  # brand preference  #np.hstack, np.concatenate, x.extend(y)\n",
    "    price_beta=para[3] # coeficient for price\n",
    "    feature_beta=para[4] # for feature\n",
    "    util=alpha+price_beta*price+feature_beta*feat\n",
    "    prob=exp(util)/np.sum(exp(util),1).reshape(n,-1)\n",
    "    prob2=np.sum(prob*choice,1)\n",
    "    return -np.sum(log(prob2))\n",
    "\n",
    "    \n"
   ]
  },
  {
   "cell_type": "code",
   "execution_count": 11,
   "metadata": {
    "collapsed": false,
    "scrolled": true
   },
   "outputs": [],
   "source": [
    "fit = opt.minimize(LogLike, para0, method='BFGS', tol=1e-6)"
   ]
  },
  {
   "cell_type": "code",
   "execution_count": 12,
   "metadata": {
    "collapsed": false
   },
   "outputs": [
    {
     "data": {
      "text/plain": [
       "      fun: 2658.5566975052025\n",
       " hess_inv: array([[ 0.0082,  0.0024, -0.0043, -0.1706, -0.0009],\n",
       "       [ 0.0024,  0.0025, -0.0017, -0.0331, -0.0003],\n",
       "       [-0.0043, -0.0017,  0.0067,  0.0962, -0.0046],\n",
       "       [-0.1706, -0.0331,  0.0962,  5.2363,  0.0128],\n",
       "       [-0.0009, -0.0003, -0.0046,  0.0128,  0.0123]])\n",
       "      jac: array([ 0.,  0.,  0.,  0.,  0.])\n",
       "  message: 'Optimization terminated successfully.'\n",
       "     nfev: 168\n",
       "      nit: 19\n",
       "     njev: 24\n",
       "   status: 0\n",
       "  success: True\n",
       "        x: array([  1.3878,   0.6435,  -3.0861, -37.0579,   0.4874])"
      ]
     },
     "execution_count": 12,
     "metadata": {},
     "output_type": "execute_result"
    }
   ],
   "source": [
    "fit"
   ]
  }
 ],
 "metadata": {
  "kernelspec": {
   "display_name": "Python 2",
   "language": "python",
   "name": "python2"
  },
  "language_info": {
   "codemirror_mode": {
    "name": "ipython",
    "version": 2
   },
   "file_extension": ".py",
   "mimetype": "text/x-python",
   "name": "python",
   "nbconvert_exporter": "python",
   "pygments_lexer": "ipython2",
   "version": "2.7.13"
  }
 },
 "nbformat": 4,
 "nbformat_minor": 2
}
