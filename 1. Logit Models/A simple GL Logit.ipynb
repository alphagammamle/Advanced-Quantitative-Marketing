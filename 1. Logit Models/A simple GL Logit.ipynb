{
 "cells": [
  {
   "cell_type": "markdown",
   "metadata": {},
   "source": [
    "## Setting up environment"
   ]
  },
  {
   "cell_type": "code",
   "execution_count": 1,
   "metadata": {
    "collapsed": true
   },
   "outputs": [],
   "source": [
    "from __future__ import division\n",
    "from __future__ import print_function\n",
    "from __future__ import unicode_literals\n",
    "import pandas as pd\n",
    "import numpy as np\n",
    "from numpy import mat\n",
    "import scipy.optimize as opt\n",
    "from numpy import exp\n",
    "from numpy import log\n",
    "import time\n",
    "from sys import getsizeof as siz"
   ]
  },
  {
   "cell_type": "markdown",
   "metadata": {},
   "source": [
    "## Define variables"
   ]
  },
  {
   "cell_type": "code",
   "execution_count": 2,
   "metadata": {
    "collapsed": false,
    "scrolled": false
   },
   "outputs": [],
   "source": [
    "df=pd.read_csv('Yogurt100N.csv')\n",
    "# df.head() "
   ]
  },
  {
   "cell_type": "code",
   "execution_count": 3,
   "metadata": {
    "collapsed": true
   },
   "outputs": [],
   "source": [
    "choice=df.as_matrix(columns=['Brand 1','Brand 2','Brand 3','Brand 4'])  # or using df.columns[:]"
   ]
  },
  {
   "cell_type": "code",
   "execution_count": 4,
   "metadata": {
    "collapsed": false
   },
   "outputs": [],
   "source": [
    "price=df.as_matrix(columns=['Price 1','Price 2','Price 3','Price 4'])"
   ]
  },
  {
   "cell_type": "code",
   "execution_count": 5,
   "metadata": {
    "collapsed": true
   },
   "outputs": [],
   "source": [
    "feat=df.as_matrix(columns=['Feature 1','Feature 2','Feature 3','Feature 4'])"
   ]
  },
  {
   "cell_type": "markdown",
   "metadata": {},
   "source": [
    "## Log Likelihood"
   ]
  },
  {
   "cell_type": "code",
   "execution_count": 6,
   "metadata": {
    "collapsed": true
   },
   "outputs": [],
   "source": [
    "para0=[1,2,3,-2,5]"
   ]
  },
  {
   "cell_type": "code",
   "execution_count": 7,
   "metadata": {
    "collapsed": false
   },
   "outputs": [],
   "source": [
    "# define log likehood function\n",
    "def LogLike(para):\n",
    "    n=price.shape[0]\n",
    "    para=np.array(para)\n",
    "    alpha=np.hstack([para[0:3],0])  # brand preference  #np.hstack, np.concatenate, x.extend(y)\n",
    "    price_beta=para[3] # coeficient for price\n",
    "    feature_beta=para[4] # for feature\n",
    "    util=alpha+price_beta*price+feature_beta*feat\n",
    "    prob=exp(util)/np.sum(exp(util),1).reshape(n,-1)\n",
    "    prob2=np.sum(prob*choice,1)\n",
    "    return -np.sum(log(prob2))"
   ]
  },
  {
   "cell_type": "code",
   "execution_count": 8,
   "metadata": {
    "collapsed": false,
    "scrolled": false
   },
   "outputs": [
    {
     "name": "stdout",
     "output_type": "stream",
     "text": [
      "time: 0.269999980927\n"
     ]
    }
   ],
   "source": [
    "t0 = time.time()\n",
    "fit = opt.minimize(LogLike, para0,method='nelder-mead', tol=1e-8)\n",
    "t1 = time.time()\n",
    "total = t1-t0\n",
    "print('time:', total)"
   ]
  },
  {
   "cell_type": "markdown",
   "metadata": {},
   "source": [
    "## Results"
   ]
  },
  {
   "cell_type": "code",
   "execution_count": 9,
   "metadata": {
    "collapsed": false,
    "scrolled": true
   },
   "outputs": [
    {
     "data": {
      "text/plain": [
       " final_simplex: (array([[  1.38775362,   0.64350497,  -3.08611532, -37.0579333 ,\n",
       "          0.48741369],\n",
       "       [  1.38775362,   0.64350497,  -3.08611532, -37.05793329,\n",
       "          0.48741369],\n",
       "       [  1.38775362,   0.64350497,  -3.08611532, -37.0579333 ,\n",
       "          0.48741369],\n",
       "       [  1.38775362,   0.64350497,  -3.08611532, -37.05793331,\n",
       "          0.48741369],\n",
       "       [  1.38775362,   0.64350497,  -3.08611532, -37.0579333 ,\n",
       "          0.48741369],\n",
       "       [  1.38775362,   0.64350497,  -3.08611532, -37.0579333 ,\n",
       "          0.48741369]]), array([ 2658.55669751,  2658.55669751,  2658.55669751,  2658.55669751,\n",
       "        2658.55669751,  2658.55669751]))\n",
       "           fun: 2658.5566975051288\n",
       "       message: 'Optimization terminated successfully.'\n",
       "          nfev: 671\n",
       "           nit: 396\n",
       "        status: 0\n",
       "       success: True\n",
       "             x: array([  1.38775362,   0.64350497,  -3.08611532, -37.0579333 ,   0.48741369])"
      ]
     },
     "execution_count": 9,
     "metadata": {},
     "output_type": "execute_result"
    }
   ],
   "source": [
    "fit"
   ]
  }
 ],
 "metadata": {
  "kernelspec": {
   "display_name": "Python 2",
   "language": "python",
   "name": "python2"
  },
  "language_info": {
   "codemirror_mode": {
    "name": "ipython",
    "version": 2
   },
   "file_extension": ".py",
   "mimetype": "text/x-python",
   "name": "python",
   "nbconvert_exporter": "python",
   "pygments_lexer": "ipython2",
   "version": "2.7.13"
  }
 },
 "nbformat": 4,
 "nbformat_minor": 2
}
