{
 "cells": [
  {
   "cell_type": "code",
   "execution_count": 1,
   "metadata": {
    "collapsed": false
   },
   "outputs": [],
   "source": [
    "from __future__ import division\n",
    "from __future__ import print_function\n",
    "from __future__ import unicode_literals\n",
    "\n",
    "import pandas as pd\n",
    "import numpy as np\n",
    "from numpy import dot\n",
    "from numpy.random import normal as rnorm\n",
    "from numpy import mat\n",
    "import scipy.optimize as opt\n",
    "from numpy import exp\n",
    "from numpy import log\n",
    "from scipy.sparse import diags\n",
    "import time\n",
    "from sys import getsizeof as siz\n",
    "import random as rnd"
   ]
  },
  {
   "cell_type": "code",
   "execution_count": 2,
   "metadata": {
    "collapsed": false
   },
   "outputs": [],
   "source": [
    "df=pd.read_csv('Yogurt100N.csv')"
   ]
  },
  {
   "cell_type": "code",
   "execution_count": 3,
   "metadata": {
    "collapsed": false
   },
   "outputs": [],
   "source": [
    "choice=df.as_matrix(columns=['Brand 1','Brand 2','Brand 3','Brand 4'])  # or using df.columns[:]\n",
    "price=df.as_matrix(columns=['Price 1','Price 2','Price 3','Price 4'])\n",
    "feat=df.as_matrix(columns=['Feature 1','Feature 2','Feature 3','Feature 4'])\n",
    "d=10  # Draws\n",
    "n= price.shape[0]\n",
    "h=len(set(df['Pan I.D.']))\n",
    "cov_n=5 # covriance matrix dimentions\n",
    "mean_n=5 # number of means\n",
    "tri = np.zeros((cov_n,cov_n))\n",
    "para0=[1,2,3,-40,5,6,7,8,9,10]  # for only diagnal cov matrix\n",
    "nbr=4\n",
    "a=np.zeros((n*d,nbr))"
   ]
  },
  {
   "cell_type": "code",
   "execution_count": 4,
   "metadata": {
    "collapsed": false
   },
   "outputs": [
    {
     "name": "stdout",
     "output_type": "stream",
     "text": [
      "2430 100\n"
     ]
    }
   ],
   "source": [
    "print(n,h)"
   ]
  },
  {
   "cell_type": "code",
   "execution_count": 5,
   "metadata": {
    "collapsed": true
   },
   "outputs": [],
   "source": [
    "# For element-wise operation, we need to make the dimention the same"
   ]
  },
  {
   "cell_type": "code",
   "execution_count": 6,
   "metadata": {
    "collapsed": true
   },
   "outputs": [],
   "source": [
    "choice=np.tile(choice,(d,1))\n",
    "price=np.tile(price,(d,1))\n",
    "feat=np.tile(feat,(d,1))"
   ]
  },
  {
   "cell_type": "code",
   "execution_count": 7,
   "metadata": {
    "collapsed": false
   },
   "outputs": [
    {
     "name": "stdout",
     "output_type": "stream",
     "text": [
      "(24300L, 4L) (24300L, 4L) (24300L, 4L)\n"
     ]
    }
   ],
   "source": [
    "print(choice.shape,price.shape,feat.shape)"
   ]
  },
  {
   "cell_type": "code",
   "execution_count": 8,
   "metadata": {
    "collapsed": false
   },
   "outputs": [
    {
     "data": {
      "text/plain": [
       "(24300L, 5L)"
      ]
     },
     "execution_count": 8,
     "metadata": {},
     "output_type": "execute_result"
    }
   ],
   "source": [
    "rnd.seed(1)\n",
    "mu, sigma = 0, 1\n",
    "z=rnorm(mu,sigma,n*cov_n*d)\n",
    "ini_draw=z.reshape((n*d,cov_n))\n",
    "ini_draw.shape"
   ]
  },
  {
   "cell_type": "code",
   "execution_count": 9,
   "metadata": {
    "collapsed": false
   },
   "outputs": [],
   "source": [
    "def LogLike(para):\n",
    "    \n",
    "    cho=diags(para[5:10], 0).toarray()\n",
    "    t=para[0:5]+dot(ini_draw.reshape(-1,cov_n),cho)\n",
    "    a[:,0:3]=t[:,0:3]  # brand preference  #np.hstack, np.concatenate, x.extend(y)\n",
    "    price_beta=t[:,3].reshape(-1,1) # coeficient for price\n",
    "    feature_beta=t[:,4].reshape(-1,1) # for feature\n",
    "    util=a+price_beta*price+feature_beta*feat\n",
    "    prob=exp(util)/np.sum(exp(util),1).reshape(d*n,-1)\n",
    "    prob2=np.sum(prob*choice,1)\n",
    "    prob3=prob2.reshape(n,-1)\n",
    "    prob_ave=np.average(prob3,axis=1)\n",
    "    return -np.sum(log(prob_ave))"
   ]
  },
  {
   "cell_type": "code",
   "execution_count": 10,
   "metadata": {
    "collapsed": false
   },
   "outputs": [
    {
     "name": "stdout",
     "output_type": "stream",
     "text": [
      "time: 8.88400006294\n"
     ]
    }
   ],
   "source": [
    "t0 = time.time()\n",
    "fit = opt.minimize(LogLike, para0, method='BFGS', tol=1e-6)\n",
    "t1 = time.time()\n",
    "total = t1-t0\n",
    "print('time:', total)"
   ]
  },
  {
   "cell_type": "code",
   "execution_count": 11,
   "metadata": {
    "collapsed": false
   },
   "outputs": [
    {
     "data": {
      "text/plain": [
       "      fun: 2227.5245320429394\n",
       " hess_inv: array([[  4.76290721e-03,  -4.01683754e-04,  -1.21238138e-03,\n",
       "         -4.99855541e-02,   6.83056149e-03,  -1.66551122e-04,\n",
       "          1.30784885e-03,  -1.75342064e-03,   1.96708385e-02,\n",
       "          4.03586795e-03],\n",
       "       [ -4.01683754e-04,   1.73578029e-03,   1.95153181e-03,\n",
       "          1.10241272e-02,  -4.39251582e-04,   1.05724765e-04,\n",
       "         -7.52354605e-03,  -2.39312177e-04,  -9.77989376e-03,\n",
       "         -1.07317728e-03],\n",
       "       [ -1.21238138e-03,   1.95153181e-03,   4.41249296e+00,\n",
       "         -2.10226801e-01,  -1.40798025e+00,   1.43658967e-03,\n",
       "         -1.88065781e-01,   8.77549057e-03,  -4.02215854e+00,\n",
       "          1.14203316e+00],\n",
       "       [ -4.99855541e-02,   1.10241272e-02,  -2.10226801e-01,\n",
       "          2.18794943e+00,  -2.97535849e-01,  -1.65118872e-02,\n",
       "          5.09977165e-03,   1.30480352e-02,  -6.71717891e-01,\n",
       "         -2.23114933e-01],\n",
       "       [  6.83056149e-03,  -4.39251582e-04,  -1.40798025e+00,\n",
       "         -2.97535849e-01,   9.18527624e-01,   4.94357100e-03,\n",
       "          3.66801098e-02,  -5.68606160e-03,   1.25973918e+00,\n",
       "         -4.50092370e-01],\n",
       "       [ -1.66551122e-04,   1.05724765e-04,   1.43658967e-03,\n",
       "         -1.65118872e-02,   4.94357100e-03,   1.48471179e-02,\n",
       "          3.69362117e-04,   5.01841791e-05,  -4.08041555e-03,\n",
       "          7.96504449e-04],\n",
       "       [  1.30784885e-03,  -7.52354605e-03,  -1.88065781e-01,\n",
       "          5.09977165e-03,   3.66801098e-02,   3.69362117e-04,\n",
       "          1.37307329e-01,   1.12538556e-03,   2.19213722e-01,\n",
       "         -5.68874609e-02],\n",
       "       [ -1.75342064e-03,  -2.39312177e-04,   8.77549057e-03,\n",
       "          1.30480352e-02,  -5.68606160e-03,   5.01841791e-05,\n",
       "          1.12538556e-03,   5.04601511e-03,  -1.35527594e-02,\n",
       "          7.16816035e-04],\n",
       "       [  1.96708385e-02,  -9.77989376e-03,  -4.02215854e+00,\n",
       "         -6.71717891e-01,   1.25973918e+00,  -4.08041555e-03,\n",
       "          2.19213722e-01,  -1.35527594e-02,   4.56495011e+00,\n",
       "         -1.04560519e+00],\n",
       "       [  4.03586795e-03,  -1.07317728e-03,   1.14203316e+00,\n",
       "         -2.23114933e-01,  -4.50092370e-01,   7.96504449e-04,\n",
       "         -5.68874609e-02,   7.16816035e-04,  -1.04560519e+00,\n",
       "          5.38117369e-01]])\n",
       "      jac: array([ 0.,  0.,  0.,  0.,  0.,  0.,  0.,  0.,  0.,  0.])\n",
       "  message: 'Optimization terminated successfully.'\n",
       "     nfev: 984\n",
       "      nit: 65\n",
       "     njev: 82\n",
       "   status: 0\n",
       "  success: True\n",
       "        x: array([  4.22410506e+00,   1.16631909e+00,  -1.44504614e+01,\n",
       "        -1.38167125e+02,   6.31545336e+00,  -3.61259792e-02,\n",
       "        -1.62452254e-01,  -1.22882348e+00,  -1.96895160e-01,\n",
       "        -2.52334438e+00])"
      ]
     },
     "execution_count": 11,
     "metadata": {},
     "output_type": "execute_result"
    }
   ],
   "source": [
    "fit"
   ]
  }
 ],
 "metadata": {
  "kernelspec": {
   "display_name": "Python 2",
   "language": "python",
   "name": "python2"
  },
  "language_info": {
   "codemirror_mode": {
    "name": "ipython",
    "version": 2
   },
   "file_extension": ".py",
   "mimetype": "text/x-python",
   "name": "python",
   "nbconvert_exporter": "python",
   "pygments_lexer": "ipython2",
   "version": "2.7.13"
  }
 },
 "nbformat": 4,
 "nbformat_minor": 2
}
