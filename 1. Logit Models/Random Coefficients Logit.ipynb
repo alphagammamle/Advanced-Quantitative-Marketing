{
 "cells": [
  {
   "cell_type": "code",
   "execution_count": 410,
   "metadata": {
    "collapsed": false
   },
   "outputs": [],
   "source": [
    "from __future__ import division\n",
    "from __future__ import print_function\n",
    "from __future__ import unicode_literals\n",
    "\n",
    "import pandas as pd\n",
    "import numpy as np\n",
    "from numpy import dot\n",
    "from numpy.random import normal as rnorm\n",
    "from numpy import mat\n",
    "import scipy.optimize as opt\n",
    "from numpy import exp\n",
    "from numpy import log\n",
    "from scipy.sparse import diags\n",
    "import time\n",
    "from sys import getsizeof as siz\n",
    "import random as rnd"
   ]
  },
  {
   "cell_type": "code",
   "execution_count": 411,
   "metadata": {
    "collapsed": false
   },
   "outputs": [],
   "source": [
    "df=pd.read_csv('Yogurt100N.csv')"
   ]
  },
  {
   "cell_type": "code",
   "execution_count": 416,
   "metadata": {
    "collapsed": false
   },
   "outputs": [],
   "source": [
    "choice=df.as_matrix(columns=['Brand 1','Brand 2','Brand 3','Brand 4'])  # or using df.columns[:]\n",
    "price=df.as_matrix(columns=['Price 1','Price 2','Price 3','Price 4'])\n",
    "feat=df.as_matrix(columns=['Feature 1','Feature 2','Feature 3','Feature 4'])\n",
    "d=10  # Draws\n",
    "n= price.shape[0]\n",
    "h=len(set(df['Pan I.D.']))\n",
    "cov_n=5 # covriance matrix dimentions\n",
    "mean_n=5 # number of means\n",
    "tri = np.zeros((cov_n,cov_n))\n",
    "para0=[1,2,3,-40,5,6,7,8,9,10]  # for only diagnal cov matrix\n",
    "nbr=4\n",
    "a=np.zeros((n*d,nbr))"
   ]
  },
  {
   "cell_type": "code",
   "execution_count": 417,
   "metadata": {
    "collapsed": false
   },
   "outputs": [
    {
     "name": "stdout",
     "output_type": "stream",
     "text": [
      "2430 100\n"
     ]
    }
   ],
   "source": [
    "print(n,h)"
   ]
  },
  {
   "cell_type": "code",
   "execution_count": 418,
   "metadata": {
    "collapsed": true
   },
   "outputs": [],
   "source": [
    "# For element-wise operation, we need to make the dimention the same"
   ]
  },
  {
   "cell_type": "code",
   "execution_count": 419,
   "metadata": {
    "collapsed": true
   },
   "outputs": [],
   "source": [
    "choice=np.tile(choice,(d,1))\n",
    "price=np.tile(price,(d,1))\n",
    "feat=np.tile(feat,(d,1))"
   ]
  },
  {
   "cell_type": "code",
   "execution_count": 420,
   "metadata": {
    "collapsed": false
   },
   "outputs": [
    {
     "name": "stdout",
     "output_type": "stream",
     "text": [
      "(24300L, 4L) (24300L, 4L) (24300L, 4L)\n"
     ]
    }
   ],
   "source": [
    "print(choice.shape,price.shape,feat.shape)"
   ]
  },
  {
   "cell_type": "markdown",
   "metadata": {},
   "source": [
    "## Difference draws\n",
    "- Same across all households\n",
    "- Same random number for the same households\n",
    "- Different random numbers for each observations"
   ]
  },
  {
   "cell_type": "markdown",
   "metadata": {},
   "source": [
    "### Different across all observations"
   ]
  },
  {
   "cell_type": "code",
   "execution_count": 421,
   "metadata": {
    "collapsed": false
   },
   "outputs": [
    {
     "data": {
      "text/plain": [
       "(24300L, 5L)"
      ]
     },
     "execution_count": 421,
     "metadata": {},
     "output_type": "execute_result"
    }
   ],
   "source": [
    "rnd.seed(1)\n",
    "mu, sigma = 0, 1\n",
    "z=rnorm(mu,sigma,n*cov_n*d)\n",
    "ini_draw=z.reshape((n*d,cov_n))\n",
    "ini_draw.shape"
   ]
  },
  {
   "cell_type": "code",
   "execution_count": 422,
   "metadata": {
    "collapsed": false
   },
   "outputs": [],
   "source": [
    "def LogLike(para):\n",
    "    \n",
    "    cho=diags(para[5:10], 0).toarray()\n",
    "    t=para[0:5]+dot(ini_draw.reshape(-1,cov_n),cho)\n",
    "    a[:,0:3]=t[:,0:3]  # brand preference  #np.hstack, np.concatenate, x.extend(y)\n",
    "    price_beta=t[:,3].reshape(-1,1) # coeficient for price\n",
    "    feature_beta=t[:,4].reshape(-1,1) # for feature\n",
    "    util=a+price_beta*price+feature_beta*feat\n",
    "    prob=exp(util)/np.sum(exp(util),1).reshape(d*n,-1)\n",
    "    prob2=np.sum(prob*choice,1)\n",
    "    prob3=prob2.reshape(n,-1)\n",
    "    prob_ave=np.average(prob3,axis=1)\n",
    "    return -np.sum(log(prob_ave))"
   ]
  },
  {
   "cell_type": "code",
   "execution_count": 423,
   "metadata": {
    "collapsed": false
   },
   "outputs": [
    {
     "name": "stdout",
     "output_type": "stream",
     "text": [
      "time: 5.26300001144\n"
     ]
    }
   ],
   "source": [
    "t0 = time.time()\n",
    "fit = opt.minimize(LogLike, para0, method='BFGS', tol=1e-6)\n",
    "t1 = time.time()\n",
    "total = t1-t0\n",
    "print('time:', total)"
   ]
  },
  {
   "cell_type": "code",
   "execution_count": 424,
   "metadata": {
    "collapsed": false
   },
   "outputs": [
    {
     "data": {
      "text/plain": [
       "      fun: 2225.4460649780603\n",
       " hess_inv: array([[  2.48609358e-02,   4.57827206e-03,  -7.71078914e-02,\n",
       "         -6.21916808e-01,   6.54087432e-02,  -1.00721541e-04,\n",
       "         -3.09390239e-03,  -2.51189510e-02,   3.81424335e-01,\n",
       "          1.45636896e-02],\n",
       "       [  4.57827206e-03,   4.76132297e-03,  -3.65495834e-03,\n",
       "         -4.29778298e-02,   3.44840648e-03,  -2.27549711e-04,\n",
       "         -1.40074322e-03,  -1.12400123e-02,   3.19007196e-02,\n",
       "          4.24262244e-03],\n",
       "       [ -7.71078914e-02,  -3.65495834e-03,   1.42306318e+00,\n",
       "          2.56320255e+00,  -1.21257412e+00,  -3.26429654e-03,\n",
       "          4.11867894e-03,  -8.02849166e-02,  -7.46559580e-01,\n",
       "         -9.66546298e-02],\n",
       "       [ -6.21916808e-01,  -4.29778298e-02,   2.56320255e+00,\n",
       "          2.15117011e+01,  -2.18963950e+00,  -9.75006382e-03,\n",
       "          6.29024477e-02,   3.76635788e-01,  -1.22695774e+01,\n",
       "         -1.87917510e-01],\n",
       "       [  6.54087432e-02,   3.44840648e-03,  -1.21257412e+00,\n",
       "         -2.18963950e+00,   1.31984477e+00,  -3.86350147e-04,\n",
       "         -4.78109526e-03,   1.21996792e-01,   1.67195309e-01,\n",
       "          9.21547217e-02],\n",
       "       [ -1.00721541e-04,  -2.27549711e-04,  -3.26429654e-03,\n",
       "         -9.75006382e-03,  -3.86350147e-04,   1.35659227e-02,\n",
       "         -1.99893468e-03,  -5.46288257e-03,   1.66369046e-02,\n",
       "         -5.32566809e-04],\n",
       "       [ -3.09390239e-03,  -1.40074322e-03,   4.11867894e-03,\n",
       "          6.29024477e-02,  -4.78109526e-03,  -1.99893468e-03,\n",
       "          3.23883265e-02,   1.12686306e-02,  -8.89588838e-02,\n",
       "          7.80661593e-05],\n",
       "       [ -2.51189510e-02,  -1.12400123e-02,  -8.02849166e-02,\n",
       "          3.76635788e-01,   1.21996792e-01,  -5.46288257e-03,\n",
       "          1.12686306e-02,   2.49173671e-01,  -5.48748254e-01,\n",
       "         -1.22786402e-01],\n",
       "       [  3.81424335e-01,   3.19007196e-02,  -7.46559580e-01,\n",
       "         -1.22695774e+01,   1.67195309e-01,   1.66369046e-02,\n",
       "         -8.89588838e-02,  -5.48748254e-01,   1.47837421e+01,\n",
       "          2.99119241e-01],\n",
       "       [  1.45636896e-02,   4.24262244e-03,  -9.66546298e-02,\n",
       "         -1.87917510e-01,   9.21547217e-02,  -5.32566809e-04,\n",
       "          7.80661593e-05,  -1.22786402e-01,   2.99119241e-01,\n",
       "          4.42289820e-01]])\n",
       "      jac: array([  3.05175781e-05,   3.05175781e-05,   0.00000000e+00,\n",
       "         0.00000000e+00,   0.00000000e+00,   0.00000000e+00,\n",
       "         0.00000000e+00,   0.00000000e+00,   0.00000000e+00,\n",
       "         0.00000000e+00])\n",
       "  message: 'Desired error not necessarily achieved due to precision loss.'\n",
       "     nfev: 925\n",
       "      nit: 58\n",
       "     njev: 77\n",
       "   status: 2\n",
       "  success: False\n",
       "        x: array([  4.47051121e+00,   1.19686025e+00,  -1.82475166e+01,\n",
       "        -1.46682837e+02,   1.16507970e+01,  -6.62662024e-03,\n",
       "        -3.34724894e-01,  -5.32202639e-02,  -5.31854097e+00,\n",
       "        -2.00253693e-01])"
      ]
     },
     "execution_count": 424,
     "metadata": {},
     "output_type": "execute_result"
    }
   ],
   "source": [
    "fit"
   ]
  },
  {
   "cell_type": "code",
   "execution_count": null,
   "metadata": {
    "collapsed": true
   },
   "outputs": [],
   "source": []
  },
  {
   "cell_type": "code",
   "execution_count": null,
   "metadata": {
    "collapsed": true
   },
   "outputs": [],
   "source": []
  },
  {
   "cell_type": "code",
   "execution_count": 404,
   "metadata": {
    "collapsed": true
   },
   "outputs": [],
   "source": [
    "x=np.array(range(0,10))\n",
    "mat=x.reshape(2,5)"
   ]
  },
  {
   "cell_type": "code",
   "execution_count": 405,
   "metadata": {
    "collapsed": false
   },
   "outputs": [
    {
     "data": {
      "text/plain": [
       "array([[0, 1, 2, 3, 4],\n",
       "       [5, 6, 7, 8, 9]])"
      ]
     },
     "execution_count": 405,
     "metadata": {},
     "output_type": "execute_result"
    }
   ],
   "source": [
    "mat\n"
   ]
  },
  {
   "cell_type": "code",
   "execution_count": 406,
   "metadata": {
    "collapsed": false
   },
   "outputs": [
    {
     "data": {
      "text/plain": [
       "array([[0, 1, 2, 3, 4],\n",
       "       [0, 1, 2, 3, 4],\n",
       "       [0, 1, 2, 3, 4],\n",
       "       [5, 6, 7, 8, 9],\n",
       "       [5, 6, 7, 8, 9],\n",
       "       [5, 6, 7, 8, 9]])"
      ]
     },
     "execution_count": 406,
     "metadata": {},
     "output_type": "execute_result"
    }
   ],
   "source": [
    "mat2=np.repeat(mat,3,axis=0)\n",
    "mat2"
   ]
  },
  {
   "cell_type": "code",
   "execution_count": 409,
   "metadata": {
    "collapsed": false
   },
   "outputs": [
    {
     "data": {
      "text/plain": [
       "array([[0, 1, 2, 3, 4, 0, 1, 2, 3, 4],\n",
       "       [5, 6, 7, 8, 9, 5, 6, 7, 8, 9],\n",
       "       [0, 1, 2, 3, 4, 0, 1, 2, 3, 4],\n",
       "       [5, 6, 7, 8, 9, 5, 6, 7, 8, 9],\n",
       "       [0, 1, 2, 3, 4, 0, 1, 2, 3, 4],\n",
       "       [5, 6, 7, 8, 9, 5, 6, 7, 8, 9]])"
      ]
     },
     "execution_count": 409,
     "metadata": {},
     "output_type": "execute_result"
    }
   ],
   "source": [
    "mat3=np.tile(mat,(3,1))\n",
    "mat3"
   ]
  },
  {
   "cell_type": "code",
   "execution_count": 305,
   "metadata": {
    "collapsed": true
   },
   "outputs": [],
   "source": [
    "    \n",
    "    para=para0\n",
    "    cho=diags(para[5:10], 0).toarray()\n",
    "    t=para[0:5]+dot(ini_draw.reshape(-1,cov_n),cho)\n",
    "    a[:,0:3]=t[:,0:3]  # brand preference  #np.hstack, np.concatenate, x.extend(y)\n",
    "    price_beta=t[3] # coeficient for price\n",
    "    feature_beta=t[4] # for feature"
   ]
  },
  {
   "cell_type": "code",
   "execution_count": null,
   "metadata": {
    "collapsed": true
   },
   "outputs": [],
   "source": []
  },
  {
   "cell_type": "code",
   "execution_count": null,
   "metadata": {
    "collapsed": true
   },
   "outputs": [],
   "source": []
  },
  {
   "cell_type": "code",
   "execution_count": null,
   "metadata": {
    "collapsed": true
   },
   "outputs": [],
   "source": []
  },
  {
   "cell_type": "code",
   "execution_count": 309,
   "metadata": {
    "collapsed": false
   },
   "outputs": [
    {
     "data": {
      "text/plain": [
       "((12150L, 4L), (12150L, 4L), (12150L, 4L))"
      ]
     },
     "execution_count": 309,
     "metadata": {},
     "output_type": "execute_result"
    }
   ],
   "source": [
    "a.shape,feat.shape,price.shape"
   ]
  },
  {
   "cell_type": "code",
   "execution_count": 314,
   "metadata": {
    "collapsed": false
   },
   "outputs": [
    {
     "data": {
      "text/plain": [
       "(5L, 1L)"
      ]
     },
     "execution_count": 314,
     "metadata": {},
     "output_type": "execute_result"
    }
   ],
   "source": [
    "price_beta.shape"
   ]
  },
  {
   "cell_type": "code",
   "execution_count": 308,
   "metadata": {
    "collapsed": false
   },
   "outputs": [
    {
     "ename": "ValueError",
     "evalue": "operands could not be broadcast together with shapes (5,) (12150,4) ",
     "output_type": "error",
     "traceback": [
      "\u001b[0;31m---------------------------------------------------------------------------\u001b[0m",
      "\u001b[0;31mValueError\u001b[0m                                Traceback (most recent call last)",
      "\u001b[0;32m<ipython-input-308-733d15062fcd>\u001b[0m in \u001b[0;36m<module>\u001b[0;34m()\u001b[0m\n\u001b[0;32m----> 1\u001b[0;31m \u001b[0mutil\u001b[0m\u001b[1;33m=\u001b[0m\u001b[0ma\u001b[0m\u001b[1;33m+\u001b[0m\u001b[0mprice_beta\u001b[0m\u001b[1;33m*\u001b[0m\u001b[0mprice\u001b[0m\u001b[1;33m+\u001b[0m\u001b[0mfeature_beta\u001b[0m\u001b[1;33m*\u001b[0m\u001b[0mfeat\u001b[0m\u001b[1;33m\u001b[0m\u001b[0m\n\u001b[0m",
      "\u001b[0;31mValueError\u001b[0m: operands could not be broadcast together with shapes (5,) (12150,4) "
     ]
    }
   ],
   "source": [
    "util=a+price_beta*price+feature_beta*feat\n"
   ]
  },
  {
   "cell_type": "code",
   "execution_count": 317,
   "metadata": {
    "collapsed": false
   },
   "outputs": [
    {
     "data": {
      "text/plain": [
       "1.4127274576846895"
      ]
     },
     "execution_count": 317,
     "metadata": {},
     "output_type": "execute_result"
    }
   ],
   "source": [
    "-np.sum(log(prob_ave))"
   ]
  },
  {
   "cell_type": "code",
   "execution_count": 320,
   "metadata": {
    "collapsed": false
   },
   "outputs": [
    {
     "data": {
      "text/plain": [
       "array([[  3.17753004e-02,   9.68134466e-01,   1.65620577e-05,\n",
       "          7.36712095e-05],\n",
       "       [  1.26536582e-04,   9.99847520e-01,   2.55571508e-05,\n",
       "          3.85940855e-07],\n",
       "       [  3.95756182e-08,   9.98943011e-01,   1.23965203e-04,\n",
       "          9.32983908e-04],\n",
       "       ..., \n",
       "       [  7.66487037e-01,   2.00423497e-01,   2.02699848e-04,\n",
       "          3.28867665e-02],\n",
       "       [  1.15335965e-07,   9.99949706e-01,   4.27566361e-05,\n",
       "          7.42219460e-06],\n",
       "       [  1.34737508e-07,   1.75193127e-07,   9.99999536e-01,\n",
       "          1.54346825e-07]])"
      ]
     },
     "execution_count": 320,
     "metadata": {},
     "output_type": "execute_result"
    }
   ],
   "source": [
    " prob=exp(util)/np.sum(exp(util),1).reshape(d*n,-1)\n",
    "prob"
   ]
  },
  {
   "cell_type": "code",
   "execution_count": 321,
   "metadata": {
    "collapsed": false
   },
   "outputs": [
    {
     "data": {
      "text/plain": [
       "array([  7.36712095e-05,   3.85940855e-07,   9.32983908e-04, ...,\n",
       "         3.28867665e-02,   7.42219460e-06,   1.54346825e-07])"
      ]
     },
     "execution_count": 321,
     "metadata": {},
     "output_type": "execute_result"
    }
   ],
   "source": [
    "    prob2=np.sum(prob*choice,1)\n",
    "prob2"
   ]
  },
  {
   "cell_type": "code",
   "execution_count": 326,
   "metadata": {
    "collapsed": false
   },
   "outputs": [
    {
     "data": {
      "text/plain": [
       "array([  2.02863127e-04,   2.20235479e-01,   5.66221359e-01, ...,\n",
       "         8.60451506e-03,   3.29179093e-03,   2.96187708e-02])"
      ]
     },
     "execution_count": 326,
     "metadata": {},
     "output_type": "execute_result"
    }
   ],
   "source": [
    "    prob_ave=np.average(prob3,axis=1)\n",
    "prob_ave"
   ]
  },
  {
   "cell_type": "code",
   "execution_count": 328,
   "metadata": {
    "collapsed": false
   },
   "outputs": [
    {
     "data": {
      "text/plain": [
       "5600.6074623584045"
      ]
     },
     "execution_count": 328,
     "metadata": {},
     "output_type": "execute_result"
    }
   ],
   "source": [
    "     -np.sum(log(prob_ave))"
   ]
  },
  {
   "cell_type": "code",
   "execution_count": 325,
   "metadata": {
    "collapsed": false
   },
   "outputs": [
    {
     "data": {
      "text/plain": [
       "(2430L, 5L)"
      ]
     },
     "execution_count": 325,
     "metadata": {},
     "output_type": "execute_result"
    }
   ],
   "source": [
    "prob3=prob2.reshape(n,-1)\n",
    "prob3.shape"
   ]
  },
  {
   "cell_type": "code",
   "execution_count": 426,
   "metadata": {
    "collapsed": false
   },
   "outputs": [
    {
     "data": {
      "text/plain": [
       "[1, 2, 3, -40, 5]"
      ]
     },
     "execution_count": 426,
     "metadata": {},
     "output_type": "execute_result"
    }
   ],
   "source": [
    "para0[0:5]"
   ]
  }
 ],
 "metadata": {
  "kernelspec": {
   "display_name": "Python 2",
   "language": "python",
   "name": "python2"
  },
  "language_info": {
   "codemirror_mode": {
    "name": "ipython",
    "version": 2
   },
   "file_extension": ".py",
   "mimetype": "text/x-python",
   "name": "python",
   "nbconvert_exporter": "python",
   "pygments_lexer": "ipython2",
   "version": "2.7.13"
  }
 },
 "nbformat": 4,
 "nbformat_minor": 2
}
